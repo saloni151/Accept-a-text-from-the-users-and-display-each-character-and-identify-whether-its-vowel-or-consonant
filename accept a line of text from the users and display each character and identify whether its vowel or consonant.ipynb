{
 "cells": [
  {
   "cell_type": "markdown",
   "id": "0f0c6c04-aba4-4474-b92f-c765857829fc",
   "metadata": {},
   "source": [
    "**Write a python progran that will accept a line of text from the users and display each character and identify whether its vowel or consonant.**"
   ]
  },
  {
   "cell_type": "code",
   "execution_count": 1,
   "id": "936b1b4b-9b59-4bcb-b73a-4c29471f6921",
   "metadata": {},
   "outputs": [
    {
     "name": "stdin",
     "output_type": "stream",
     "text": [
      "Enter the line of text:  My name is Saloni\n"
     ]
    }
   ],
   "source": [
    "#Accepting the input from the users\n",
    "line=input(\"Enter the line of text: \")"
   ]
  },
  {
   "cell_type": "code",
   "execution_count": 2,
   "id": "6da2f0fe-a5ec-4113-b2a1-d997f3f5b628",
   "metadata": {},
   "outputs": [],
   "source": [
    "#putting the vowel character in a list object\n",
    "lst=['A','E','I','O','U','a','e','i','o','u']"
   ]
  },
  {
   "cell_type": "code",
   "execution_count": 3,
   "id": "d014583c-e106-446b-89cc-17e584fa3c8f",
   "metadata": {},
   "outputs": [],
   "source": [
    "#initialization\n",
    "i=0"
   ]
  },
  {
   "cell_type": "code",
   "execution_count": 4,
   "id": "a088d56e-85fd-44fa-8393-f4c080abd757",
   "metadata": {},
   "outputs": [
    {
     "name": "stdout",
     "output_type": "stream",
     "text": [
      "The character M is constant\n",
      "The character y is constant\n",
      " It is a space\n",
      "The character n is constant\n",
      "The character a is vowel\n",
      "The character m is constant\n",
      "The character e is vowel\n",
      " It is a space\n",
      "The character i is vowel\n",
      "The character s is constant\n",
      " It is a space\n",
      "The character S is constant\n",
      "The character a is vowel\n",
      "The character l is constant\n",
      "The character o is vowel\n",
      "The character n is constant\n",
      "The character i is vowel\n"
     ]
    }
   ],
   "source": [
    "#LOGIC or test condition used\n",
    "while(i<len(line)):\n",
    "    if(line[i]==\" \"):\n",
    "        print(\" It is a space\")\n",
    "    else:\n",
    "        if(line[i] in lst ):\n",
    "            print(\"The character {} is vowel\".format(line[i]))\n",
    "        else:\n",
    "            print(\"The character {} is constant\".format(line[i]))\n",
    "    i=i+1\n",
    "if(i>len(line)):    \n",
    "    print(\"The program is over\")"
   ]
  },
  {
   "cell_type": "code",
   "execution_count": null,
   "id": "ecf4b507-ba73-4b46-b869-5391dba1c166",
   "metadata": {},
   "outputs": [],
   "source": []
  },
  {
   "cell_type": "code",
   "execution_count": null,
   "id": "1d81634b-73c5-47e8-a51d-079fffa2b04f",
   "metadata": {},
   "outputs": [],
   "source": []
  },
  {
   "cell_type": "code",
   "execution_count": null,
   "id": "80ef6b66-da55-4c2d-8cad-d7a264be12ed",
   "metadata": {},
   "outputs": [],
   "source": []
  },
  {
   "cell_type": "code",
   "execution_count": null,
   "id": "467d58df-5e54-447e-8d30-38f22818109b",
   "metadata": {},
   "outputs": [],
   "source": []
  },
  {
   "cell_type": "code",
   "execution_count": null,
   "id": "e1e5aa7d-a249-42af-bb01-4e5efa2f5cb7",
   "metadata": {},
   "outputs": [],
   "source": []
  },
  {
   "cell_type": "code",
   "execution_count": null,
   "id": "ad201f23-d362-43e0-98ff-a369520820bc",
   "metadata": {},
   "outputs": [],
   "source": []
  },
  {
   "cell_type": "code",
   "execution_count": null,
   "id": "8fb6bd4e-1c26-46c7-8400-acdac80984e1",
   "metadata": {},
   "outputs": [],
   "source": []
  }
 ],
 "metadata": {
  "kernelspec": {
   "display_name": "Python 3 (ipykernel)",
   "language": "python",
   "name": "python3"
  },
  "language_info": {
   "codemirror_mode": {
    "name": "ipython",
    "version": 3
   },
   "file_extension": ".py",
   "mimetype": "text/x-python",
   "name": "python",
   "nbconvert_exporter": "python",
   "pygments_lexer": "ipython3",
   "version": "3.12.7"
  }
 },
 "nbformat": 4,
 "nbformat_minor": 5
}
